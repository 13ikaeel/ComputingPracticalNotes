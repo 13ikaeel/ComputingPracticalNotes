{
 "cells": [
  {
   "cell_type": "markdown",
   "metadata": {},
   "source": [
    "# Linear Search\n",
    "##### Worst Case: $O(n)$ <br>Average Case: $O(n)$ <br>Best Case: $O(1)$"
   ]
  },
  {
   "cell_type": "markdown",
   "metadata": {},
   "source": [
    "##### Iterative Linear Search"
   ]
  },
  {
   "cell_type": "code",
   "execution_count": 1,
   "metadata": {},
   "outputs": [
    {
     "name": "stdout",
     "output_type": "stream",
     "text": [
      "True\n"
     ]
    }
   ],
   "source": [
    "def unordered_linear_search(item, lst): #for unordered list\n",
    "    for i in range(len(lst)):\n",
    "        if lst[i] == item: return True\n",
    "    return False\n",
    "def ordered_linear_search(item, lst): #for ordered list\n",
    "    for i in range(len(lst)):\n",
    "        if lst[i] == item:\n",
    "            return True\n",
    "        elif lst[i] > item:\n",
    "            return False\n",
    "    return None\n"
   ]
  },
  {
   "cell_type": "markdown",
   "metadata": {},
   "source": [
    "##### Recursive Linear Search"
   ]
  },
  {
   "cell_type": "code",
   "execution_count": null,
   "metadata": {},
   "outputs": [],
   "source": [
    "########## Linear Search Using Recursion ##########\n",
    "def searchitem(seq, item):\n",
    "    if len(seq) == 0:\n",
    "        return False\n",
    "    elif seq[0] == item:\n",
    "        return True\n",
    "    else:\n",
    "        return searchitem(seq[1:],item)\n",
    "    \n",
    "def searchindex(seq, item):\n",
    "    if len(seq) == 0:\n",
    "        print(f\"Item: \\\"{item}\\\" not found\")\n",
    "        return 0\n",
    "    elif seq[0] == item:\n",
    "        return 0\n",
    "    else:\n",
    "        return 1 + searchindex(seq[1:],item)\n",
    "    \n",
    "    \n",
    "def countitem(seq, item):\n",
    "    if len(seq) == 0:\n",
    "        return 0\n",
    "    elif seq[0] == item:\n",
    "        return 1 + countitem(seq[1:],item)\n",
    "    else:\n",
    "        return countitem(seq[1:],item)\n",
    "###################################################"
   ]
  },
  {
   "cell_type": "markdown",
   "metadata": {},
   "source": [
    "# Binary Search\n",
    "##### Worst Case: $O(log(n))$ <br>Average Case: $O(log(n))$ <br>Best Case: $O(1)$"
   ]
  },
  {
   "cell_type": "markdown",
   "metadata": {},
   "source": [
    "##### Iterative Binary Search"
   ]
  },
  {
   "cell_type": "code",
   "execution_count": null,
   "metadata": {},
   "outputs": [],
   "source": [
    "def binary_search(lst, item):\n",
    "\tleft = 0\n",
    "\tright = len(lst) - 1\n",
    "\twhile left <= right:\n",
    "\t\tmid = (left + right) // 2\n",
    "\t\tif lst[mid] == item:\n",
    "\t\t\treturn mid\n",
    "\t\telif item < lst[mid]:\n",
    "\t\t\tright = mid - 1\n",
    "\t\telse:\n",
    "\t\t\tleft = mid + 1\n",
    "\treturn -1"
   ]
  },
  {
   "cell_type": "markdown",
   "metadata": {},
   "source": [
    "##### Recursive Binary Search"
   ]
  },
  {
   "cell_type": "code",
   "execution_count": null,
   "metadata": {},
   "outputs": [],
   "source": [
    "########## Binary Search Using Recursion ##########\n",
    "def Search(seq, lo, hi, item):\n",
    "    if lo>hi:\n",
    "        return False\n",
    "    mid = (lo+hi)//2\n",
    "    if seq[mid] == item:\n",
    "        return True\n",
    "    if seq[mid]>item:\n",
    "        return Search(seq,lo,mid-1,item)\n",
    "    else:\n",
    "        return Search(seq,mid+1,hi,item)\n",
    "    \n",
    "def BinarySearch(seq, item): #Initializes lo and hi \n",
    "    lo = 0\n",
    "    hi = len(seq) -1\n",
    "    return Search(seq,lo,hi,item)\n",
    "###################################################"
   ]
  },
  {
   "cell_type": "markdown",
   "metadata": {},
   "source": [
    "# Binary Tree"
   ]
  },
  {
   "cell_type": "code",
   "execution_count": null,
   "metadata": {},
   "outputs": [],
   "source": [
    "# Constructors\n",
    "def make_empty_tree():\n",
    "    return []\n",
    "def make_tree(entry, left, right):\n",
    "    return [entry,left,right]\n",
    "# Accessors\n",
    "def entry(tree):\n",
    "    return tree[0]    \n",
    "def left_branch(tree):\n",
    "    return tree[1]\n",
    "def right_branch(tree):\n",
    "    return tree[2]\n",
    "# Predicate\n",
    "def is_empty(tree):\n",
    "    return len(tree)==0\n",
    "\n",
    "\n",
    "\n",
    "############################################ Searching in Binary Trees ############################################\n",
    "def contains(x, tree):\n",
    "    \"\"\" Returns true if x is in binary tree, otherwise return false \"\"\"\n",
    "    if is_empty(tree):\n",
    "        return False\n",
    "    if entry(tree) == x:\n",
    "        return True\n",
    "    else:\n",
    "        if entry(tree)> x:\n",
    "            return contains(x,left_branch(tree))\n",
    "        else:\n",
    "            return contains(x,right_branch(tree))\n",
    "\n",
    "###################################################################################################################\n",
    "\n",
    "\n",
    "\n",
    "############################################ Inserting in Binary Trees ############################################\n",
    "def insert_tree(x, tree):\n",
    "    \"\"\"\n",
    "    - tree is empty, -> return a tree with x as entry and empty left and right branches\n",
    "    - entry > x, -> return new tree with x inserted into left sub tree\n",
    "    - otherwise -> return new tree with x inserted into right sub tree\n",
    "    \"\"\"   \n",
    "    if len(tree) == 0:\n",
    "        return make_tree(x,make_empty_tree(),make_empty_tree())\n",
    "    else:\n",
    "        if entry(tree)>x:\n",
    "            return [entry(tree),insert_tree(x,left_branch(tree)),right_branch(tree)]\n",
    "        else:\n",
    "            return [entry(tree), left_branch(tree),insert_tree(x,right_branch(tree))]\n",
    "##################################################################################################################\n",
    "    \n",
    "\n",
    "\n",
    "############################################# Flattening Binary Trees #############################################\n",
    "\n",
    "\n",
    "########## Pre-Order Traversal ##########\n",
    "def flatten_pre(tree):\n",
    "    # rule: entry --> left branch --> right branch\n",
    "    if is_empty(tree):\n",
    "        return []\n",
    "    else:\n",
    "        return [entry(tree)] + flatten_pre(left_branch(tree)) + flatten_pre(right_branch(tree))\n",
    "    \n",
    "\n",
    "########## In-Order Traversal ##########\n",
    "def flatten_inOrder(tree):\n",
    "    # rule: left branch --> entry --> right branch\n",
    "    if is_empty(tree):\n",
    "        return []\n",
    "    else:\n",
    "        return flatten_inOrder(left_branch(tree)) + [entry(tree)] + flatten_inOrder(right_branch(tree))\n",
    "\n",
    "\n",
    "########## Post-Order Traversal ##########\n",
    "def flatten_post(tree):\n",
    "    # rule: left branch --> right branch --> entry \n",
    "    if is_empty(tree):\n",
    "        return []\n",
    "    else:\n",
    "        return flatten_post(left_branch(tree)) + flatten_post(right_branch(tree)) + [entry(tree)]\n",
    "    \n",
    "##################################################################################################################\n",
    "\n",
    "\n",
    "\n"
   ]
  }
 ],
 "metadata": {
  "kernelspec": {
   "display_name": "Python 3",
   "language": "python",
   "name": "python3"
  },
  "language_info": {
   "codemirror_mode": {
    "name": "ipython",
    "version": 3
   },
   "file_extension": ".py",
   "mimetype": "text/x-python",
   "name": "python",
   "nbconvert_exporter": "python",
   "pygments_lexer": "ipython3",
   "version": "3.11.2"
  },
  "orig_nbformat": 4
 },
 "nbformat": 4,
 "nbformat_minor": 2
}
