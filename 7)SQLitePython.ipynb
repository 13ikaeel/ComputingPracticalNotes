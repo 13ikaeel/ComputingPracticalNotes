{
 "cells": [
  {
   "cell_type": "markdown",
   "metadata": {},
   "source": [
    "### Import, Overwrite, Connect, Cursor, Commit, Close ###"
   ]
  },
  {
   "cell_type": "code",
   "execution_count": null,
   "metadata": {},
   "outputs": [],
   "source": [
    "from sqlite3 import *\n",
    "\n",
    "open('example.db','w').close()\n",
    "# To overwrite an existing file(Sqlite do not support DROP DATABASE)\n",
    "\n",
    "database = connect('example.db')\n",
    "# if example.db exists, connnect to it, else create it\n",
    "\n",
    "c = database.cursor()\n",
    "# Create a cursor for the database\n",
    "#The cursor allows us to execute SQL commands and fetch data\n",
    "#when the cursor executes a query, it points to the data(result of\n",
    "#the query)\n",
    "\n",
    "#--------------------------------------------------------------------\n",
    "#\n",
    "# Queries like create table, insert, update... goes here\n",
    "#\n",
    "#--------------------------------------------------------------------\n",
    "\n",
    "# save changes if there are changes to the data in the tables\n",
    "database.commit()\n",
    "\n",
    "# Close the database file\n",
    "database.close()"
   ]
  },
  {
   "cell_type": "markdown",
   "metadata": {},
   "source": [
    "### Create Table ###"
   ]
  },
  {
   "cell_type": "code",
   "execution_count": null,
   "metadata": {},
   "outputs": [],
   "source": [
    "c.execute('''\n",
    "\tCREATE TABLE Customers(\n",
    "\t\tId INTEGER PRIMARY KEY NOT NULL,\n",
    "\t\tName TEXT NOT NULL,\n",
    "\t\tPhoneNumber TEXT NOT NULL\n",
    "\t\t);\n",
    "\t''')\n",
    "\n",
    "c.execute('''\n",
    "\tCREATE TABLE Products(\n",
    "\t\tId INTEGER PRIMARY KEY NOT NULL,\n",
    "\t\tProductName TEXT,\n",
    "\t\tUnitPrice NUMERIC,\n",
    "\t\tPackage TEXT,\n",
    "\t\tSupplierName TEXT,\n",
    "\t\tSupplierCountry TEXT,\n",
    "\t\t);\n",
    "\t''')\n",
    "\n",
    "c.execute('''\n",
    "\tCREATE TABLE Orders(\n",
    "\t\tId INTEGER PRIMARY KEY NOT NULL,\n",
    "\t\tOrderDate TEXT NOT NULL,\n",
    "\t\tCustomerId INTEGER NOT NULL REFERENCES Customers(Id),\n",
    "\t\tProductId INTEGER NOT NULL REFERENCES Products(Id),\n",
    "\t\tQuantity INTEGER NOT NULL,\n",
    "\t\t);\n",
    "\t''')\n",
    "#dont have to indicate \"FOREIGN KEY\" as it is established \n",
    "#by using \"REFERENCES Table(heading)\""
   ]
  },
  {
   "cell_type": "markdown",
   "metadata": {},
   "source": [
    "### Inserting into tables ###"
   ]
  },
  {
   "cell_type": "code",
   "execution_count": null,
   "metadata": {},
   "outputs": [],
   "source": [
    "c.execute('''\n",
    "\tINSERT INTO PRODUCTS \n",
    "\t\t(ProductName,UnitPrice,Package,SupplierName,SupplierCountry)\n",
    "\t\tVALUES(?,?,?,?,?)\n",
    "\t''',\n",
    "\t('Chai',18,'10 boxes x 20 bags','Exotic Liquids','UK')\n",
    ") \n",
    "#Good practice to use '?'(placeholders) as it helps prevent SQL\n",
    "#injection attacks, When you use placeholders, the values are\n",
    "#treated as data rather than part of the SQL command, making\n",
    "#it much harder for attackers to inject malicious SQL Code\n",
    "#into your queries. It also helps with performance, clarity and \n",
    "#maintainability\n",
    "\n",
    "\n",
    "#Insert multiple data from a list\n",
    "datalist = [('Chang', 19, '24 – 12 oz bottles', 'Exotic Liquids','UK'),\n",
    "            ('Aniseed Syrup', 10, '12 – 550ml bottles', 'Exotic Liquids','UK'),\n",
    "            (\"Chef Anton's Cajun Seasoning\", 22, '48 – 6 oz jars', 'New Orleans Cajun Delights', 'USA'),\n",
    "            (\"Chef Anton's Gumbo Mix\", 21.35, '36 boxes', 'New Orleans Cajun Delights', 'USA')]\n",
    "\n",
    "for data in datalist:\n",
    "\tc.execute('''\n",
    "\t\tINSERT INTO Products\n",
    "\t\t\t(ProductName, UnitPrice, Package, SupplierName,SupplierCountry)\n",
    "\t\t\tVALUES (?,?,?,?,?)\n",
    "\t\t''',\n",
    "\t\tdata)\n",
    "\t\n",
    "\n",
    "# Insert data from csv\n",
    "from csv import*\n",
    "file = open(\"Products.csv\")\n",
    "lst = reader(file)\n",
    "next(lst)\n",
    "\n",
    "for data in lst:\n",
    "\tc.execute('''\n",
    "\tINSERT INTO Products\n",
    "\t\t(Id, ProductName, UnitPrice,Package,SupplierName,SupplierCountry)\n",
    "\t\tVALUES(?,?,?,?,?,?)\n",
    "\t''', \n",
    "\tdata)"
   ]
  },
  {
   "cell_type": "markdown",
   "metadata": {},
   "source": [
    "### Updating ###"
   ]
  },
  {
   "cell_type": "code",
   "execution_count": null,
   "metadata": {},
   "outputs": [],
   "source": [
    "# Set Country to be \"Singapore\" for the record with FirstName=\"Thomas\"\n",
    "#and LastName=\"Hardy\"\n",
    "c.execute('''\n",
    "\tUPDATE Customers SET Country = ?\n",
    "\tWHERE FirstName=\"Thomas\"\n",
    "\tAND LastName=\"Hardy\";\n",
    "\t''', \n",
    "\t('Singapore',))\n",
    "\n",
    "\n",
    "# Set FirstName and LastName to be \"Harry\" and \"Potter\" \n",
    "# For the record with Id 5\n",
    "c.execute('''\n",
    "\tUPDATE Customers SET FirstName=?, LastName=?\n",
    "\tWHERE Id=5;\n",
    "\t''', \n",
    "\t(\"Harry\",\"Potter\"))\n",
    "\n",
    "\n",
    "# Add Quantity by 10 for records where ID is less than 5\n",
    "c.execute('''\n",
    "\tUPDATE Orders SET Quantity = Quantity + ?\n",
    "\tWHERE Id<5;\n",
    "\t''',\n",
    "\t(10,))"
   ]
  },
  {
   "cell_type": "markdown",
   "metadata": {},
   "source": [
    "### Delete records"
   ]
  },
  {
   "cell_type": "code",
   "execution_count": null,
   "metadata": {},
   "outputs": [],
   "source": [
    "c.execute('''\n",
    "\tDELETE FROM Customers \n",
    "\tWHERE FirstName = 'Victoria';\n",
    "''')"
   ]
  },
  {
   "cell_type": "markdown",
   "metadata": {},
   "source": [
    "### Fetchone and Fetchall"
   ]
  },
  {
   "cell_type": "code",
   "execution_count": null,
   "metadata": {},
   "outputs": [],
   "source": [
    "c.execute('''\n",
    "\tSELECT * FROM Products\n",
    "\tWHERE Id=1\n",
    "''')\n",
    "\n",
    "item = c.fetchone()\n",
    "print(item)\n",
    "\n",
    "\n",
    "c.execute('''\n",
    "\tSELECT * FROM Customers\n",
    "''')\n",
    "\n",
    "items = c.fetchall()\n",
    "for item in items:\n",
    "\tprint(item)"
   ]
  }
 ],
 "metadata": {
  "kernelspec": {
   "display_name": "Python 3",
   "language": "python",
   "name": "python3"
  },
  "language_info": {
   "name": "python",
   "version": "3.6.4"
  }
 },
 "nbformat": 4,
 "nbformat_minor": 2
}
