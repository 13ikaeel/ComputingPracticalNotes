{
 "cells": [
  {
   "cell_type": "markdown",
   "metadata": {},
   "source": [
    "# Create a sever listening for client"
   ]
  },
  {
   "cell_type": "code",
   "execution_count": null,
   "metadata": {},
   "outputs": [],
   "source": [
    "# server.py -------------------------------------------------------\n",
    "\n",
    "from socket import *\n",
    "\n",
    "my_socket = socket() # init a socket\n",
    "my_socket.bind(('127.0.0.1',12345))\n",
    "#my_socket is attatched to the ip and port number\n",
    "\n",
    "my_socket.listen()\n",
    "# my_socket is listening for any requests by clients"
   ]
  },
  {
   "cell_type": "markdown",
   "metadata": {},
   "source": [
    "# Connecting a client to the server"
   ]
  },
  {
   "cell_type": "code",
   "execution_count": null,
   "metadata": {},
   "outputs": [],
   "source": [
    "# client.py-----------------------------------------------------------\n",
    "\n",
    "from socket import *\n",
    "my_socket = socket() # init a socket\n",
    "\n",
    "my_socket.connect(('127.0.0.1',12345)) # connect to server"
   ]
  },
  {
   "cell_type": "markdown",
   "metadata": {},
   "source": [
    "# Server accepts the client"
   ]
  },
  {
   "cell_type": "code",
   "execution_count": null,
   "metadata": {},
   "outputs": [],
   "source": [
    "# server.py -------------------------------------------------------\n",
    "\n",
    "from socket import *\n",
    "\n",
    "my_socket = socket() # init a socket\n",
    "my_socket.bind(('127.0.0.1',12345))\n",
    "#my_socket is attatched to the ip and port number\n",
    "\n",
    "my_socket.listen()\n",
    "# my_socket is listening for any requests by clients\n",
    "\n",
    "new_socket, addr = my_socket.accept()\n"
   ]
  },
  {
   "cell_type": "markdown",
   "metadata": {},
   "source": [
    "# Sever sends a message"
   ]
  },
  {
   "cell_type": "code",
   "execution_count": null,
   "metadata": {},
   "outputs": [],
   "source": [
    "# server.py -------------------------------------------------------\n",
    "\n",
    "from socket import *\n",
    "\n",
    "my_socket = socket() # init a socket\n",
    "my_socket.bind(('127.0.0.1',12345))\n",
    "#my_socket is attatched to the ip and port number\n",
    "\n",
    "my_socket.listen()\n",
    "# my_socket is listening for any requests by clients\n",
    "\n",
    "new_socket, addr = my_socket.accept()\n",
    "\n",
    "Msg = 'hello from server'\n",
    "new_socket.sendall(Msg.encode())\n",
    "\n",
    "\n",
    "\n",
    "# client.py -------------------------------------------------------\n",
    "\n",
    "from socket import *\n",
    "my_socket = socket() # init a socket\n",
    "\n",
    "my_socket.connect(('127.0.0.1',12345)) # connect to server\n",
    "\n",
    "Msg = my_socket.recv(1024) # number inside should be small power of 2\n",
    "print(Msg.decode())"
   ]
  }
 ],
 "metadata": {
  "language_info": {
   "name": "python"
  }
 },
 "nbformat": 4,
 "nbformat_minor": 2
}
