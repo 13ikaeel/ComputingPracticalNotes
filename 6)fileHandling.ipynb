{
 "cells": [
  {
   "cell_type": "markdown",
   "metadata": {},
   "source": [
    "<h1>Dealing With Files"
   ]
  },
  {
   "cell_type": "markdown",
   "metadata": {},
   "source": [
    "##### A CSV file and a TxT file are both used to store data\n",
    "##### A CSV file is structured using commas (or other delimiters like tabs or semicolons) to seperate values. They are commonly used for storing and exchanging strcutured data, such as spreadsheets or database exports.\n",
    "##### A TXT file is a plain text file that can store any type of textual data. It doesn't have a predefined structure like a CSV file; it can contain plan text, structured data, or even binary data. They are more general-purpose and can be used for a wide range of purposes, including storing text documents, configuration files, logs, or data that doesn't fit into a structured format like CSV\n",
    "\n",
    "#\n",
    "#\n",
    "#\n",
    "#"
   ]
  },
  {
   "cell_type": "markdown",
   "metadata": {},
   "source": [
    "# Reading CSV"
   ]
  },
  {
   "cell_type": "code",
   "execution_count": null,
   "metadata": {},
   "outputs": [],
   "source": [
    "file = open('data.csv')\n",
    "next(file) #skip current line if there is a header row\n",
    "newlist = [] #empty list to store sub-lists\n",
    "for line in file:\n",
    "   line = line.strip() #remove \\n line breaks\n",
    "   line = line.split(',') #split line by comma into list\n",
    "   [data1, data2, data3] = line #for each list, assign list[0] as name, list[1] as gender, list[2] as score\n",
    "   \n",
    "   print(data1) #test print of names\n",
    "   \n",
    "   newlist.append(line) #append each sublist to newlist\n",
    "\n",
    "file.close() #remember to close file\n",
    "print(newlist)"
   ]
  },
  {
   "cell_type": "markdown",
   "metadata": {},
   "source": [
    "### \tOR"
   ]
  },
  {
   "cell_type": "code",
   "execution_count": null,
   "metadata": {},
   "outputs": [],
   "source": [
    "import csv\n",
    "\n",
    "with open('data.csv', 'r') as file:\n",
    "    reader = csv.reader(file)\n",
    "    next(reader) # to skip header row\n",
    "    for row in reader:\n",
    "        print(row) # Row is a list of fields\n",
    "        \n",
    "'''\n",
    "With statemnt automatically takes care of closing the file once\n",
    "the code block inside it is executed or when an exception occurs \n",
    "within the block\n",
    "''' "
   ]
  },
  {
   "cell_type": "markdown",
   "metadata": {},
   "source": [
    "# Reading TXT\n",
    "##### Suppose you have a text file named \"data.txt\" with the following content\n",
    "\n",
    "h1|h2|h3<br>\n",
    "da1|da2|da3<br>\n",
    "db1|db2|db3<br>\n",
    "dc1|dc2|dc3<br>"
   ]
  },
  {
   "cell_type": "code",
   "execution_count": null,
   "metadata": {},
   "outputs": [],
   "source": [
    "import csv\n",
    "\n",
    "with open('data.txt', 'r') as file:\n",
    "    reader = csv.reader(file, delimiter='|')  \n",
    "    next(reader) # to skip header row\n",
    "    for row in reader:\n",
    "        print(row)\n"
   ]
  }
 ],
 "metadata": {
  "kernelspec": {
   "display_name": "Python 3",
   "language": "python",
   "name": "python3"
  },
  "language_info": {
   "codemirror_mode": {
    "name": "ipython",
    "version": 3
   },
   "file_extension": ".py",
   "mimetype": "text/x-python",
   "name": "python",
   "nbconvert_exporter": "python",
   "pygments_lexer": "ipython3",
   "version": "3.11.2"
  },
  "orig_nbformat": 4
 },
 "nbformat": 4,
 "nbformat_minor": 2
}
