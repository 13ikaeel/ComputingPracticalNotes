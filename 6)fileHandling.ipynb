{
 "cells": [
  {
   "cell_type": "markdown",
   "metadata": {},
   "source": [
    "<h1>Dealing With Files"
   ]
  },
  {
   "cell_type": "markdown",
   "metadata": {},
   "source": [
    "<h10>A CSV file and a TxT file are both used to store data</h10>\n",
    "#\n",
    "#\n",
    "<h10> A CSV file is structured using commas (or other delimiters like tabs or semicolons) to seperate values. They are commonly used for storing and exchanging strcutured data, such as spreadsheets or database exports.</h10>\n",
    "#\n",
    "#\n",
    "<h20> A TXT file is a plain text file that can store any type of textual data. It doesn't have a predefined structure like a CSV file; it can contain plan text, structured data, or even binary data. They are more general-purpose and can be used for a wide range of purposes, including storing text documents, configuration files, logs, or data that doesn't fit into a structured format like CSV</h20>\n",
    "\n",
    "#\n",
    "#\n",
    "#\n",
    "#"
   ]
  },
  {
   "cell_type": "markdown",
   "metadata": {},
   "source": [
    "# CSV"
   ]
  },
  {
   "cell_type": "markdown",
   "metadata": {},
   "source": [
    "### Reading CSV"
   ]
  },
  {
   "cell_type": "code",
   "execution_count": 17,
   "metadata": {},
   "outputs": [
    {
     "name": "stdout",
     "output_type": "stream",
     "text": [
      "['Alan', 'M', '1.670812', '51.29746']\n",
      "['Bob', 'M', '1.816608', '61.96646']\n",
      "['Charles', 'M', '1.76276', '69.47562']\n",
      "['Dave', 'M', '1.732788', '64.62236']\n",
      "['Eddy', 'M', '1.721866', '65.5122']\n",
      "['Faith', 'M', '1.74498', '55.9782']\n",
      "['Ginny', 'M', '1.77292', '64.23646']\n",
      "['Han', 'M', '1.778254', '61.95284']\n",
      "['Ivory', 'M', '1.72466', '51.01598']\n"
     ]
    }
   ],
   "source": [
    "file = open('ignore/data.csv')\n",
    "next(file) #skip current line if there is a header row\n",
    "for line in file:\n",
    "   line = line.strip() #remove \\n line breaks\n",
    "   line = line.split(',') #split line by comma into list\n",
    "   print(line) # Process line\n",
    "\n",
    "file.close() #remember to close file\n"
   ]
  },
  {
   "cell_type": "markdown",
   "metadata": {},
   "source": [
    "### Writing CSV"
   ]
  },
  {
   "cell_type": "code",
   "execution_count": null,
   "metadata": {},
   "outputs": [],
   "source": [
    "file = open('ignore/data2.csv','w')\n",
    "# A new file will be created if it does not exist\n",
    "# If a file with the same name exist, it will be overwritten\n",
    "\n",
    "file.write('hello')\n",
    "\n",
    "file.close()"
   ]
  },
  {
   "cell_type": "markdown",
   "metadata": {},
   "source": [
    "# TXT"
   ]
  },
  {
   "cell_type": "markdown",
   "metadata": {},
   "source": [
    "### Reading TXT"
   ]
  },
  {
   "cell_type": "code",
   "execution_count": 12,
   "metadata": {},
   "outputs": [
    {
     "name": "stdout",
     "output_type": "stream",
     "text": [
      "['Alan', 'M', '1.67', '51.29']\n",
      "['Bob', 'M', '1.80', '61.96']\n",
      "['Charles', 'M', '1.76', '69.47']\n",
      "['Dave', 'M', '1.73', '64.62']\n",
      "['Eddy', 'M', '1.72', '65.51']\n",
      "['Faith', 'M', '1.74', '55.97']\n",
      "['Ginny', 'M', '1.77', '64.23']\n",
      "['Han', 'M', '1.77', '61.95']\n",
      "['Ivory', 'M', '1.72', '51.01']\n"
     ]
    }
   ],
   "source": [
    "file = open('ignore/data.txt')\n",
    "next(file) #skip current line if there is a header row\n",
    "\n",
    "for line in file:\n",
    "\tline = line.strip() # removes \\n\n",
    "\tline = line.split('\\t') \n",
    "\t# \\t can be replaced with ',' depending on how values are seperated\n",
    "\tprint(line) # process line\n",
    "\n",
    "file.close()"
   ]
  },
  {
   "cell_type": "markdown",
   "metadata": {},
   "source": [
    "### Writing TXT"
   ]
  },
  {
   "cell_type": "code",
   "execution_count": 13,
   "metadata": {},
   "outputs": [],
   "source": [
    "file = open('ignore/data2.txt','w')\n",
    "# A new file will be created if it does not exist\n",
    "# If a file with the same name exist, it will be overwritten\n",
    "\n",
    "file.write('hello')\n",
    "\n",
    "file.close()"
   ]
  },
  {
   "cell_type": "markdown",
   "metadata": {},
   "source": [
    "### Appending TXT"
   ]
  },
  {
   "cell_type": "code",
   "execution_count": 14,
   "metadata": {},
   "outputs": [],
   "source": [
    "file = open('ignore/data2.txt','a') #replace 'w' with 'a'\n",
    "# A new file will be created if it does not exist\n",
    "# If a file with the same name exist, it will be overwritten\n",
    "\n",
    "file.write('hello')\n",
    "\n",
    "file.close()"
   ]
  }
 ],
 "metadata": {
  "kernelspec": {
   "display_name": "Python 3",
   "language": "python",
   "name": "python3"
  },
  "language_info": {
   "codemirror_mode": {
    "name": "ipython",
    "version": 3
   },
   "file_extension": ".py",
   "mimetype": "text/x-python",
   "name": "python",
   "nbconvert_exporter": "python",
   "pygments_lexer": "ipython3",
   "version": "3.7.7"
  },
  "orig_nbformat": 4
 },
 "nbformat": 4,
 "nbformat_minor": 2
}
