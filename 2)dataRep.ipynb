{
 "cells": [
  {
   "cell_type": "markdown",
   "metadata": {},
   "source": [
    "<h1>Denary to BaseN</h1>"
   ]
  },
  {
   "cell_type": "code",
   "execution_count": null,
   "metadata": {},
   "outputs": [],
   "source": [
    "def denary_to_basen(string, n):\n",
    "    dictionary = {10: \"A\", 11: \"B\", 12: \"C\", 13: \"D\", 14: \"E\", 15: \"F\"}\n",
    "    result, denary = \"\", int(string)\n",
    "    \n",
    "    while denary > 0:\n",
    "        remain, denary = denary % n, denary // n\n",
    "        result += dictionary.get(remain, str(remain))\n",
    "            #if remain in dict, value of remain in dict will be returned\n",
    "            #else, str(remain) will be returned\n",
    "\n",
    "    return result[::-1]"
   ]
  },
  {
   "cell_type": "markdown",
   "metadata": {},
   "source": [
    "<h1>BaseN to Denary</h1>"
   ]
  },
  {
   "cell_type": "code",
   "execution_count": null,
   "metadata": {},
   "outputs": [],
   "source": [
    "def basen_to_denary(string, n):\n",
    "    dictionary = {\"A\": 10, \"B\": 11, \"C\": 12, \"D\": 13, \"E\": 14, \"F\": 15}\n",
    "    result, power = 0, len(string) - 1\n",
    "\n",
    "    for i in range(0,len(string)):\n",
    "        result += dictionary[string[i]] if string[i] in dictionary else int(string[i])*n**(power)\n",
    "        power -=1\n",
    "    return str(result)"
   ]
  }
 ],
 "metadata": {
  "language_info": {
   "name": "python"
  },
  "orig_nbformat": 4
 },
 "nbformat": 4,
 "nbformat_minor": 2
}
