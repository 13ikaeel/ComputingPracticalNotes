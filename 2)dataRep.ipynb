{
 "cells": [
  {
   "cell_type": "markdown",
   "metadata": {},
   "source": [
    "<h1>Denary to BaseN</h1>"
   ]
  },
  {
   "cell_type": "code",
   "execution_count": 19,
   "metadata": {},
   "outputs": [
    {
     "name": "stdout",
     "output_type": "stream",
     "text": [
      "12F34D\n",
      "1000\n",
      "1000\n"
     ]
    }
   ],
   "source": [
    "def denary_to_basen(string, n):\n",
    "    dictionary = {10: \"A\", 11: \"B\", 12: \"C\", 13: \"D\", 14: \"E\", 15: \"F\"}\n",
    "    result, denary = \"\", int(string)\n",
    "    \n",
    "    while denary > 0:\n",
    "        remain, denary = denary % n, denary // n\n",
    "        result += dictionary.get(remain, str(remain))\n",
    "            #if remain in dict, value of remain in dict will be returned\n",
    "            #else, str(remain) will be returned\n",
    "\n",
    "    return result[::-1]\n",
    "\n",
    "print(denary_to_basen(\"1241933\",16))\n",
    "print(denary_to_basen(\"8\",2))\n",
    "print(denary_to_basen(\"27\",3))"
   ]
  },
  {
   "cell_type": "markdown",
   "metadata": {},
   "source": [
    "<h1>BaseN to Denary</h1>"
   ]
  },
  {
   "cell_type": "code",
   "execution_count": 18,
   "metadata": {},
   "outputs": [
    {
     "name": "stdout",
     "output_type": "stream",
     "text": [
      "1241933\n",
      "8\n",
      "27\n"
     ]
    }
   ],
   "source": [
    "def basen_to_denary(string, n):\n",
    "    dictionary = {\"A\": 10, \"B\": 11, \"C\": 12, \"D\": 13, \"E\": 14, \"F\": 15}\n",
    "    result, power = 0, len(string) - 1\n",
    "\n",
    "    for value in string:\n",
    "        result += (dictionary[value] if value in dictionary else int(value)) * n**(power)\n",
    "        power -=1\n",
    "    return str(result)\n",
    "\n",
    "print(basen_to_denary(\"12F34D\",16))\n",
    "print(basen_to_denary('1000',2))\n",
    "print(basen_to_denary('1000',3))"
   ]
  }
 ],
 "metadata": {
  "kernelspec": {
   "display_name": "Python 3",
   "language": "python",
   "name": "python3"
  },
  "language_info": {
   "codemirror_mode": {
    "name": "ipython",
    "version": 3
   },
   "file_extension": ".py",
   "mimetype": "text/x-python",
   "name": "python",
   "nbconvert_exporter": "python",
   "pygments_lexer": "ipython3",
   "version": "3.11.2"
  },
  "orig_nbformat": 4
 },
 "nbformat": 4,
 "nbformat_minor": 2
}
