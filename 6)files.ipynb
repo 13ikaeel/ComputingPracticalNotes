{
 "cells": [
  {
   "cell_type": "markdown",
   "metadata": {},
   "source": [
    "<h1>Dealing With Files"
   ]
  },
  {
   "cell_type": "code",
   "execution_count": null,
   "metadata": {},
   "outputs": [],
   "source": [
    "file = open('abc.csv')\n",
    "next(file)                        #skip current line if there is a header row\n",
    "newlist = []                       #empty list to store sub-lists\n",
    "for line in file:\n",
    "   line = line.strip()             #remove \\n line breaks\n",
    "   line = line.split(',')  \t\t   #split line by comma into list\n",
    "   #print(line)                    #print to take a look at line and its components\n",
    "   [name, gender, score] = line    #for each list, assign list[0] as name, list[1] as gender, list[2] as score\n",
    "   \n",
    "   #print(name)                    #test print of names\n",
    "   \n",
    "   newlist.append(line)            #append each sublist to newlist\n",
    "\n",
    "file.close()                       #remember to close file\n",
    "print(newlist)"
   ]
  }
 ],
 "metadata": {
  "language_info": {
   "name": "python"
  },
  "orig_nbformat": 4
 },
 "nbformat": 4,
 "nbformat_minor": 2
}
