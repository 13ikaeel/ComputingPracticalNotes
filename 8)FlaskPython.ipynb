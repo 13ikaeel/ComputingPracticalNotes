{
 "cells": [
  {
   "cell_type": "markdown",
   "metadata": {},
   "source": []
  },
  {
   "cell_type": "code",
   "execution_count": 1,
   "metadata": {},
   "outputs": [],
   "source": [
    "from flask import Flask,render_template\n",
    "#or\n",
    "from flask import *\n",
    "\n",
    "app= Flask(__name__)\n",
    "\n",
    "@app.route('/') #Rn server.py and access the default route \"/\" on the browser using 127.0.0.1:5000\n",
    "def index():\n",
    "\treturn render_template('index.html')\n",
    "\n",
    "@app.route('/example') # access the \"/example\" route on the browser using 127.0.0.1:5000/example\n",
    "def example():\n",
    "\treturn render_template('example.html')\n",
    "\n",
    "\n",
    "app.run(debug=False,port=5000)"
   ]
  }
 ],
 "metadata": {
  "kernelspec": {
   "display_name": "Python 3",
   "language": "python",
   "name": "python3"
  },
  "language_info": {
   "codemirror_mode": {
    "name": "ipython",
    "version": 3
   },
   "file_extension": ".py",
   "mimetype": "text/x-python",
   "name": "python",
   "nbconvert_exporter": "python",
   "pygments_lexer": "ipython3",
   "version": "3.6.4"
  }
 },
 "nbformat": 4,
 "nbformat_minor": 2
}
