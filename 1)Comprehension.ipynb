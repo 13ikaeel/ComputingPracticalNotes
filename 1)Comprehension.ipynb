{
 "cells": [
  {
   "cell_type": "markdown",
   "id": "5f6d70a2",
   "metadata": {},
   "source": [
    "<h1>List Comprehension</h1>\n",
    "\n",
    "\n",
    "<h5>list = [(equation)(for item in iterable)(if condition)]</h5>\n",
    "<p>OR</p>\n",
    "<h5>list = [(equation)(if/else condition)(for item in iterable)]</h5>\n"
   ]
  },
  {
   "cell_type": "code",
   "execution_count": null,
   "id": "b5c12a29",
   "metadata": {},
   "outputs": [],
   "source": [
    "#instead of doing this\n",
    "squares = []\n",
    "for i in range(10):\n",
    "\tif i % 2 == 0:\n",
    "\t\tsquares.append(i*i)\n",
    "print(squares)\n",
    "\n",
    "\n",
    "#do this instead\n",
    "squares = [i*i for i in range(10) if i % 2 == 0]\n",
    "print(squares)\n",
    "\n",
    "#another example\n",
    "grades=[10,100,70,80,20,80,20,40]\n",
    "passed_students=[\"Pass\" if i >= 50 else \"Failed\" for i in grades]\n"
   ]
  },
  {
   "cell_type": "markdown",
   "id": "20462368",
   "metadata": {},
   "source": [
    "<h1>Ternary Operators</h1>\n",
    "\n",
    "<h5>result = (value)(if/else condition)(value2)</h5>"
   ]
  },
  {
   "cell_type": "code",
   "execution_count": null,
   "id": "60acafd9",
   "metadata": {},
   "outputs": [],
   "source": [
    "#instead of doing this\n",
    "if x>y:\n",
    "\tresult = 42\n",
    "else:\n",
    "\tresult = 99\n",
    "\n",
    "\n",
    "#do this\n",
    "result = 42 if x>y else 99\n"
   ]
  }
 ],
 "metadata": {
  "kernelspec": {
   "display_name": "Python 3 (ipykernel)",
   "language": "python",
   "name": "python3"
  },
  "language_info": {
   "codemirror_mode": {
    "name": "ipython",
    "version": 3
   },
   "file_extension": ".py",
   "mimetype": "text/x-python",
   "name": "python",
   "nbconvert_exporter": "python",
   "pygments_lexer": "ipython3",
   "version": "3.11.2"
  }
 },
 "nbformat": 4,
 "nbformat_minor": 5
}
