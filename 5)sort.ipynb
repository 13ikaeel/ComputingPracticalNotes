{
 "cells": [
  {
   "cell_type": "markdown",
   "metadata": {},
   "source": [
    "# Bubble Sort\n",
    "##### Worst Case: $O(n)$ <br>Average Case: $O(n^{2})$ <br>Best Case: $O(n^{2})$"
   ]
  },
  {
   "cell_type": "markdown",
   "metadata": {},
   "source": [
    "<h5>NOT Optimized "
   ]
  },
  {
   "cell_type": "code",
   "execution_count": 34,
   "metadata": {},
   "outputs": [
    {
     "name": "stdout",
     "output_type": "stream",
     "text": [
      "([2, 3, 3, 3, 5, 6, 7, 8, 34, 56, 56], 'comparisons: 55')\n"
     ]
    }
   ],
   "source": [
    "def bubble_sort(seq): #returns the number of comparisons made\n",
    "    comparisons = 0\n",
    "    for i in range(0,len(seq)-1):\n",
    "        for j in range(0,len(seq)-1-i): #-i ensures for loop dont iterate over sorted values\n",
    "            comparisons += 1\n",
    "            if seq[j] > seq[j+1]:\n",
    "                seq[j],seq[j+1] = seq[j+1],seq[j]\n",
    "    return seq,f\"comparisons: {comparisons}\"\n",
    "print(bubble_sort([3,56,3,2,6,7,5,34,3,56,8]))"
   ]
  },
  {
   "cell_type": "markdown",
   "metadata": {},
   "source": [
    "<h5>Optimized"
   ]
  },
  {
   "cell_type": "code",
   "execution_count": 33,
   "metadata": {},
   "outputs": [
    {
     "name": "stdout",
     "output_type": "stream",
     "text": [
      "([2, 3, 3, 3, 5, 6, 7, 8, 34, 56, 56], 'comparisons: 45')\n"
     ]
    }
   ],
   "source": [
    "def optimized_bubble_sort(lst):\n",
    "    comparisons = 0\n",
    "    for i in range(0,len(lst)-1):\n",
    "        swapped = False\n",
    "\n",
    "        for j in range(0,len(lst)-1-i): #-i ensures for loop dont iterate over sorted values\n",
    "            comparisons += 1\n",
    "            if lst[j] > lst[j+1]:\n",
    "                lst[j], lst[j+1] = lst[j+1],lst[j]\n",
    "                swapped = True\n",
    "                \n",
    "        if not swapped:\n",
    "            break\n",
    "        \n",
    "    return lst,f\"comparisons: {comparisons}\"\n",
    "\n",
    "print(optimized_bubble_sort([3,56,3,2,6,7,5,34,3,56,8]))"
   ]
  },
  {
   "cell_type": "markdown",
   "metadata": {},
   "source": [
    "----------------------------------------------------------------------------------------------"
   ]
  },
  {
   "cell_type": "markdown",
   "metadata": {},
   "source": [
    "# Insertion Sort\n",
    "##### Worst Case: $O(n)$ <br>Average Case: $O(n^{2})$<br>Best Case: $O(n^{2})$"
   ]
  },
  {
   "cell_type": "code",
   "execution_count": 32,
   "metadata": {},
   "outputs": [
    {
     "name": "stdout",
     "output_type": "stream",
     "text": [
      "comparing 56 and 3\n",
      "comparing 3 and 56\n",
      "comparing 3 and 3\n",
      "comparing 56 and 56\n",
      "comparing 8 and 56\n",
      "comparing 8 and 56\n",
      "comparing 8 and 3\n",
      "([3, 3, 8, 56, 56], 'comparisons: 7')\n"
     ]
    }
   ],
   "source": [
    "def insertion_sort(lst): #ascending order\n",
    "    comparisons = 0\n",
    "    for i in range(1, len(lst)):\n",
    "            while i > 0:\n",
    "                print('comparing ' + str(lst[i]) + ' and ' + str(lst[i-1]))\n",
    "                comparisons +=1\n",
    "                if lst[i] < lst[i-1]:\n",
    "                    lst[i] , lst[i-1] = lst[i-1] , lst[i]\n",
    "                    i -= 1\n",
    "                else:\n",
    "                    break  \n",
    "    return lst,f\"comparisons: {comparisons}\"\n",
    "\n",
    "print(insertion_sort([3,56,3,56,8]))"
   ]
  },
  {
   "cell_type": "markdown",
   "metadata": {},
   "source": [
    "---------------------------"
   ]
  },
  {
   "cell_type": "markdown",
   "metadata": {},
   "source": [
    "# Selection Sort\n",
    "##### Worst Case: $O(n^{2})$<br>Average Case: $O(n^{2})$<br>Best Case: $O(n^{2})$\n",
    "##### NOT TESTED FOR PROMOS"
   ]
  },
  {
   "cell_type": "code",
   "execution_count": 35,
   "metadata": {},
   "outputs": [
    {
     "name": "stdout",
     "output_type": "stream",
     "text": [
      "([2, 3, 3, 3, 5, 6, 7, 8, 34, 56, 56], 'comparisons: 55')\n"
     ]
    }
   ],
   "source": [
    "def selection_sort(seq):\n",
    "    count = 0\n",
    "    comparisons = 0\n",
    "    while count<len(seq):\n",
    "        index = count\n",
    "        lowest = seq[index]\n",
    "        pointer = count + 1\n",
    "        while pointer <= len(seq)-1:\n",
    "            comparisons += 1\n",
    "            if lowest > seq[pointer]:\n",
    "                lowest = seq[pointer]\n",
    "                index = pointer\n",
    "            pointer += 1\n",
    "        seq[count],seq[index] = seq[index],seq[count]\n",
    "        count += 1\n",
    "    return seq,f\"comparisons: {comparisons}\"\n",
    "\n",
    "print(selection_sort([3,56,3,2,6,7,5,34,3,56,8]))"
   ]
  },
  {
   "cell_type": "markdown",
   "metadata": {},
   "source": [
    "# Merge Sort\n",
    "##### Worst Case: $O(nlog(n))$<br>Average Case: $O(nlog(n))$<br>Best Case: $O(nlog(n))$\n",
    "##### note: this is an out-of-place algorithm"
   ]
  },
  {
   "cell_type": "code",
   "execution_count": 55,
   "metadata": {},
   "outputs": [
    {
     "name": "stdout",
     "output_type": "stream",
     "text": [
      "[2, 3, 4, 4, 4, 5, 5, 5, 6, 6, 8, 34, 67, 123, 234, 434, 567, 56785]\n"
     ]
    }
   ],
   "source": [
    "comparisons = 0\n",
    "def merge_sort(seq):\n",
    "    if len(seq) < 2: #base case\n",
    "        return seq\n",
    "    mid = len(seq)//2\n",
    "    left = merge_sort(seq[:mid]) #not inclusive of mid\n",
    "    right = merge_sort(seq[mid:])\n",
    "    return merge(left,right)\n",
    "\n",
    "def merge(left,right):\n",
    "    result = []\n",
    "    while left and right:\n",
    "        if left[0] < right[0]:\n",
    "            result.append(left.pop(0))\n",
    "        else:\n",
    "            result.append(right.pop(0))\n",
    "    result += left + right #either left or right is empty. hence remaining of left \n",
    "                            # or right will be added to the result\n",
    "    return result\n",
    "    \n",
    "print(merge_sort([4,2,6,4,67,8,5,3,5,6,5,4,434,234,567,34,123,56785]))"
   ]
  },
  {
   "cell_type": "markdown",
   "metadata": {},
   "source": [
    "# Quick Sort\n",
    "##### Worst Case: $O(nlog(n))$<br>Average Case: $O(nlog(n))$<br>Best Case: $O(n^{2})$\n",
    "##### Note: wont work if seq has duplicates"
   ]
  },
  {
   "cell_type": "markdown",
   "metadata": {},
   "source": [
    "<h5>In-Place Quick Sort"
   ]
  },
  {
   "cell_type": "code",
   "execution_count": 51,
   "metadata": {},
   "outputs": [
    {
     "name": "stdout",
     "output_type": "stream",
     "text": [
      "[3, 4, 5, 6, 8, 15, 37, 41, 73, 86, 98, 234, 423, 567, 3746, 4532, 61144, 12341234]\n"
     ]
    }
   ],
   "source": [
    "def partition(seq, start, end): #using the first element as the pivot\n",
    "    pivot = seq[start]\n",
    "    left = start + 1\n",
    "    right = end\n",
    "    while left <= right:\n",
    "        while left<=right and seq[left] < pivot:\n",
    "            left += 1\n",
    "        while left<= right and seq[right]>pivot:\n",
    "            right -= 1\n",
    "        if left<= right:\n",
    "            seq[left],seq[right] = seq[right],seq[left]\n",
    "    seq[right],seq[start] = seq[start],seq[right]\n",
    "    return right\n",
    "\n",
    "def qsort(seq, start, end):          \n",
    "    if start < end:\n",
    "        mid = partition(seq, start, end)   \n",
    "        qsort(seq, start, mid-1)\n",
    "        qsort(seq, mid+1, end)\n",
    "        \n",
    "    return seq\n",
    "def quicksort(seq):                            #wrapper function\n",
    "    qsort(seq, 0, len(seq)-1)\n",
    "    return seq\n",
    "\n",
    "######### TEST ##################\n",
    "print(quicksort([3,6,4,8,5,423,567,61144,4532,73,41,86,37,15,98,234,12341234,3746]))"
   ]
  },
  {
   "cell_type": "markdown",
   "metadata": {},
   "source": [
    "<h5>Out-Of-Place Quick Sort"
   ]
  },
  {
   "cell_type": "code",
   "execution_count": 4,
   "metadata": {},
   "outputs": [
    {
     "name": "stdout",
     "output_type": "stream",
     "text": [
      "[3, 6, 7, 8, 8, 34, 67, 213, 234, 245, 346, 456, 457, 457, 467, 578, 578, 4678, 35467]\n"
     ]
    }
   ],
   "source": [
    "\n",
    "def qsort(seq):\n",
    "    if len(seq) <= 1:\n",
    "        return seq\n",
    "    pivot = seq[-1]\n",
    "    left, right = [],[]\n",
    "    for ele in seq[:-1]:\n",
    "        if ele<pivot:\n",
    "            left.append(ele)\n",
    "        else:\n",
    "            right.append(ele)\n",
    "    return qsort(left) + [pivot] + qsort(right)"
   ]
  }
 ],
 "metadata": {
  "kernelspec": {
   "display_name": "Python 3",
   "language": "python",
   "name": "python3"
  },
  "language_info": {
   "codemirror_mode": {
    "name": "ipython",
    "version": 3
   },
   "file_extension": ".py",
   "mimetype": "text/x-python",
   "name": "python",
   "nbconvert_exporter": "python",
   "pygments_lexer": "ipython3",
   "version": "3.11.2"
  },
  "orig_nbformat": 4
 },
 "nbformat": 4,
 "nbformat_minor": 2
}
