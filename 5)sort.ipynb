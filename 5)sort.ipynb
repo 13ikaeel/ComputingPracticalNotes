{
 "cells": [
  {
   "cell_type": "markdown",
   "metadata": {},
   "source": [
    "# Bubble Sort\n",
    "##### Worst Case: $O(n)$ <br>Average Case: $O(n^{2})$ <br>Best Case: $O(n^{2})$"
   ]
  },
  {
   "cell_type": "markdown",
   "metadata": {},
   "source": [
    "<h5>NOT Optimized "
   ]
  },
  {
   "cell_type": "code",
   "execution_count": null,
   "metadata": {},
   "outputs": [],
   "source": [
    "def bubble_sort(seq): #returns a sorted list in O(n square) time complexity\n",
    "    for i in range(0,len(seq)-1):\n",
    "        for j in range(0,len(seq)-1-i):\n",
    "            if seq[j] > seq[j+1]:\n",
    "                seq[j],seq[j+1] = seq[j+1],seq[j]\n",
    "    return seq\n",
    "\n",
    "def count_comparisons_bubble_sort(seq): #returns the number of comparisons made\n",
    "    comparisons = 0\n",
    "    for i in range(0,len(seq)-1):\n",
    "        for j in range(0,len(seq)-1-i):\n",
    "            comparisons += 1\n",
    "            if seq[j] < seq[j+1]:\n",
    "                seq[j],seq[j+1] = seq[j+1],seq[j]\n",
    "    return comparisons"
   ]
  },
  {
   "cell_type": "markdown",
   "metadata": {},
   "source": [
    "<h5>Optimized"
   ]
  },
  {
   "cell_type": "code",
   "execution_count": null,
   "metadata": {},
   "outputs": [],
   "source": [
    "def optimized_bubble_sort(seq):\n",
    "    for i in range(0,len(seq)-1):\n",
    "        NoSwaps = True\n",
    "        for j in range(0,len(seq)-1):\n",
    "            NoSwaps = False\n",
    "            if seq[j] > seq[j+1]:\n",
    "                seq[j],seq[j+1] = seq[j+1],seq[j]\n",
    "        if NoSwaps == True:\n",
    "            break\n",
    "    return seq\n",
    "\n",
    "\n",
    "def count_comparisons_optimized_bubble_sort(lst):\n",
    "    comparisons = 0\n",
    "    for i in range(0,len(lst)-1):\n",
    "        swapped = False\n",
    "        for j in range(0,len(lst)-1-i):\n",
    "            comparisons += 1\n",
    "            if lst[j] < lst[j+1]:\n",
    "                lst[j], lst[j+1] = lst[j+1],lst[j]\n",
    "                swapped = True\n",
    "                \n",
    "        if not swapped:\n",
    "            break\n",
    "        \n",
    "    return comparisons\n",
    "\n"
   ]
  },
  {
   "cell_type": "markdown",
   "metadata": {},
   "source": [
    "----------------------------------------------------------------------------------------------"
   ]
  },
  {
   "cell_type": "markdown",
   "metadata": {},
   "source": [
    "# Insertion Sort\n",
    "##### Worst Case: $O(n)$ <br>Average Case: $O(n^{2})$<br>Best Case: $O(n^{2})$"
   ]
  },
  {
   "cell_type": "code",
   "execution_count": null,
   "metadata": {},
   "outputs": [],
   "source": [
    "def insertion_sort(lst): #ascending order\n",
    "    for i in range(1, len(lst)):\n",
    "            while i > 0:\n",
    "                print('comparing ' + str(lst[i]) + ' and ' + str(lst[i-1]))\n",
    "                if lst[i] < lst[i-1]:\n",
    "                    lst[i] , lst[i-1] = lst[i-1] , lst[i]\n",
    "                    i -= 1\n",
    "                else:\n",
    "                    break  \n",
    "    return lst\n",
    "\n",
    "print(insertion_sort([234,645,23,1,678]))\n",
    "\n",
    "'''\n",
    "OUTPUT:\n",
    "comparing 645 and 234\n",
    "comparing 23 and 645\n",
    "comparing 23 and 234\n",
    "comparing 1 and 645\n",
    "comparing 1 and 234\n",
    "comparing 1 and 23\n",
    "comparing 678 and 645\n",
    "[1, 23, 234, 645, 678]\n",
    "'''"
   ]
  },
  {
   "cell_type": "code",
   "execution_count": null,
   "metadata": {},
   "outputs": [],
   "source": [
    "def count_comparisons_insertion_sort(lst): #ascending order\n",
    "    comparisons = 0\n",
    "    for i in range(1, len(lst)):\n",
    "            while i > 0:\n",
    "                comparisons += 1\n",
    "                print('comparing ' + str(lst[i]) + ' and ' + str(lst[i-1]))\n",
    "                if lst[i] < lst[i-1]:\n",
    "                    lst[i] , lst[i-1] = lst[i-1] , lst[i]\n",
    "                    i -= 1\n",
    "                else:\n",
    "                    break\n",
    "                \n",
    "    return lst,comparisons  \n",
    "\n",
    "print(count_comparisons_insertion_sort([234,645,23,1,678]))\n",
    "\n",
    "#OUTPUT:\n",
    "'''comparing 645 and 234\n",
    "    comparing 23 and 645\n",
    "    comparing 23 and 234\n",
    "    comparing 1 and 645\n",
    "    comparing 1 and 234\n",
    "    comparing 1 and 23\n",
    "    comparing 678 and 645\n",
    "    ([1, 23, 234, 645, 678], 7)'''"
   ]
  },
  {
   "cell_type": "markdown",
   "metadata": {},
   "source": [
    "---------------------------"
   ]
  },
  {
   "cell_type": "markdown",
   "metadata": {},
   "source": [
    "# Selection Sort\n",
    "##### Worst Case: $O(n^{2})$<br>Average Case: $O(n^{2})$<br>Best Case: $O(n^{2})$"
   ]
  },
  {
   "cell_type": "code",
   "execution_count": null,
   "metadata": {},
   "outputs": [],
   "source": [
    "def selection_sort(seq):\n",
    "    count = 0\n",
    "    while count<len(seq):\n",
    "        index = count\n",
    "        lowest = seq[index]\n",
    "        pointer = count + 1\n",
    "        while pointer <= len(seq)-1:\n",
    "            if lowest > seq[pointer]:\n",
    "                lowest = seq[pointer]\n",
    "                index = pointer\n",
    "            pointer += 1\n",
    "        seq[count],seq[index] = seq[index],seq[count]\n",
    "        count += 1\n",
    "    return seq"
   ]
  },
  {
   "cell_type": "markdown",
   "metadata": {},
   "source": [
    "# Merge Sort\n",
    "##### Worst Case: $O(nlog(n))$<br>Average Case: $O(nlog(n))$<br>Best Case: $O(nlog(n))$"
   ]
  },
  {
   "cell_type": "code",
   "execution_count": 1,
   "metadata": {},
   "outputs": [
    {
     "name": "stdout",
     "output_type": "stream",
     "text": [
      "[2, 3, 4, 4, 4, 5, 5, 5, 6, 6, 8, 34, 67, 123, 234, 434, 567, 56785]\n"
     ]
    }
   ],
   "source": [
    "def merge_sort(seq):\n",
    "    if len(seq) < 2:\n",
    "        return seq\n",
    "    mid = len(seq)//2\n",
    "    left = merge_sort(seq[:mid]) #not inclusive of mid\n",
    "    right = merge_sort(seq[mid:])\n",
    "    return merge(left,right)\n",
    "\n",
    "def merge(left,right):\n",
    "    result = []\n",
    "    while left and right:\n",
    "        if left[0] < right[0]:\n",
    "            result.append(left.pop(0))\n",
    "        else:\n",
    "            result.append(right.pop(0))\n",
    "    if not left:\n",
    "        result += right\n",
    "    elif not right:\n",
    "        result += left\n",
    "    return result\n",
    "    \n",
    "print(merge_sort([4,2,6,4,67,8,5,3,5,6,5,4,434,234,567,34,123,56785]))"
   ]
  },
  {
   "cell_type": "markdown",
   "metadata": {},
   "source": [
    "# Quick Sort\n",
    "##### Worst Case: $O(nlog(n))$<br>Average Case: $O(nlog(n))$<br>Best Case: $O(n^{2})$"
   ]
  },
  {
   "cell_type": "markdown",
   "metadata": {},
   "source": [
    "<h5>In-Place Quick Sort"
   ]
  },
  {
   "cell_type": "code",
   "execution_count": null,
   "metadata": {},
   "outputs": [],
   "source": [
    "def partition(seq, start, end):\n",
    "    pivot = seq[end]            #using the last element as the pivot\n",
    "    lo = start\n",
    "    hi = end - 1\n",
    "    while lo<=hi:\n",
    "        while seq[lo]<pivot:\n",
    "            lo+=1\n",
    "        while seq[hi] > pivot:\n",
    "            hi -=1\n",
    "        if lo<=hi:\n",
    "            seq[hi],seq[lo]= seq[lo],seq[hi]\n",
    "    seq[lo],seq[end] = seq[end], seq[lo]\n",
    "    return lo\n",
    "def qsort(seq, start, end):\n",
    "    if start<end:\n",
    "        mid= partition(seq,start,end)\n",
    "        qsort(seq,start,mid-1)\n",
    "        qsort(seq,mid+1,end)\n",
    "    return seq\n",
    "def quicksort(seq):\n",
    "    start = 0\n",
    "    end = len(seq)-1\n",
    "    qsort(seq,start,end)\n",
    "    return seq\n",
    "\n",
    "#---------------------------------------------------------------------\n",
    "def partition(seq, start, end): #using the first element as the pivot\n",
    "    pivot = seq[start]\n",
    "    lo = start + 1\n",
    "    hi = end\n",
    "    while lo <= hi:\n",
    "        while lo<=hi and seq[lo] < pivot:\n",
    "            lo += 1\n",
    "        while lo<= hi and seq[hi]>pivot:\n",
    "            hi -= 1\n",
    "        if lo<= hi:\n",
    "            seq[lo],seq[hi] = seq[hi],seq[lo]\n",
    "    seq[hi],seq[start] = seq[start],seq[hi]\n",
    "    return hi\n",
    "def qsort(seq, start, end):                    \n",
    "    if start < end:\n",
    "        mid = partition(seq, start, end)   \n",
    "        qsort(seq, start, mid-1)\n",
    "        qsort(seq, mid+1, end)\n",
    "    return seq\n",
    "def quicksort(seq):                            #wrapper function\n",
    "    qsort(seq, 0, len(seq)-1)\n",
    "    return seq"
   ]
  },
  {
   "cell_type": "markdown",
   "metadata": {},
   "source": [
    "<h5>Out-Of-Place Quick Sort"
   ]
  },
  {
   "cell_type": "code",
   "execution_count": 4,
   "metadata": {},
   "outputs": [
    {
     "name": "stdout",
     "output_type": "stream",
     "text": [
      "[3, 6, 7, 8, 8, 34, 67, 213, 234, 245, 346, 456, 457, 457, 467, 578, 578, 4678, 35467]\n"
     ]
    }
   ],
   "source": [
    "\n",
    "def qsort(seq):\n",
    "    if len(seq) <= 1:\n",
    "        return seq\n",
    "    pivot = seq[-1]\n",
    "    left, right = [],[]\n",
    "    for ele in seq[:-1]:\n",
    "        if ele<pivot:\n",
    "            left.append(ele)\n",
    "        else:\n",
    "            right.append(ele)\n",
    "    return qsort(left) + [pivot] + qsort(right)"
   ]
  }
 ],
 "metadata": {
  "kernelspec": {
   "display_name": "Python 3",
   "language": "python",
   "name": "python3"
  },
  "language_info": {
   "codemirror_mode": {
    "name": "ipython",
    "version": 3
   },
   "file_extension": ".py",
   "mimetype": "text/x-python",
   "name": "python",
   "nbconvert_exporter": "python",
   "pygments_lexer": "ipython3",
   "version": "3.11.2"
  },
  "orig_nbformat": 4
 },
 "nbformat": 4,
 "nbformat_minor": 2
}
