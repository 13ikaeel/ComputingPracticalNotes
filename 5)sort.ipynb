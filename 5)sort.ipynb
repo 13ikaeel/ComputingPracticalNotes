{
 "cells": [
  {
   "cell_type": "markdown",
   "metadata": {},
   "source": [
    "<h1>Bubble Sort"
   ]
  },
  {
   "cell_type": "markdown",
   "metadata": {},
   "source": [
    "<h5>NOT Optimized "
   ]
  },
  {
   "cell_type": "code",
   "execution_count": null,
   "metadata": {},
   "outputs": [],
   "source": [
    "def bubble_sort(seq): #returns a sorted list in O(n square) time complexity\n",
    "    for j in range(0,len(seq)-1):\n",
    "        for i in range(0,len(seq)-1-j):\n",
    "            if seq[i] > seq[i+1]:\n",
    "                seq[i],seq[i+1] = seq[i+1],seq[i]\n",
    "    return seq\n",
    "\n",
    "def count_comparisons_bubble_sort(seq): #returns the number of comparisons made\n",
    "    comparisons = 0\n",
    "    for i in range(0,len(seq)-1):\n",
    "        for j in range(0,len(seq)-1-i):\n",
    "            comparisons += 1\n",
    "            if seq[j] < seq[j+1]:\n",
    "                seq[j],seq[j+1] = seq[j+1],seq[j]\n",
    "    return comparisons"
   ]
  },
  {
   "cell_type": "markdown",
   "metadata": {},
   "source": [
    "<h5>Optimized"
   ]
  },
  {
   "cell_type": "code",
   "execution_count": null,
   "metadata": {},
   "outputs": [],
   "source": [
    "def optimized_bubble_sort(seq):\n",
    "    for i in range(0,len(seq)-1):\n",
    "        NoSwaps = True\n",
    "        for j in range(0,len(seq)-1):\n",
    "            NoSwaps = False\n",
    "            if seq[j] > seq[j+1]:\n",
    "                seq[j],seq[j+1] = seq[j+1],seq[j]\n",
    "        if NoSwaps == True:\n",
    "            break\n",
    "    return seq\n",
    "\n",
    "\n",
    "def count_comparisons_optimized_bubble_sort(lst):\n",
    "    comparisons = 0\n",
    "    for i in range(0,len(lst)-1):\n",
    "        swapped = False\n",
    "        for j in range(0,len(lst)-1-i):\n",
    "            comparisons += 1\n",
    "            if lst[j] < lst[j+1]:\n",
    "                lst[j], lst[j+1] = lst[j+1],lst[j]\n",
    "                swapped = True\n",
    "                \n",
    "        if not swapped:\n",
    "            break\n",
    "        \n",
    "    return comparisons\n",
    "\n"
   ]
  },
  {
   "cell_type": "markdown",
   "metadata": {},
   "source": [
    "<h1>Selection Sort\n"
   ]
  },
  {
   "cell_type": "code",
   "execution_count": null,
   "metadata": {},
   "outputs": [],
   "source": []
  },
  {
   "cell_type": "markdown",
   "metadata": {},
   "source": [
    "<h1>Insertion Sort"
   ]
  },
  {
   "cell_type": "code",
   "execution_count": null,
   "metadata": {},
   "outputs": [],
   "source": [
    "def insertion_sort(lst): #ascending order\n",
    "    for i in range(1, len(lst)):\n",
    "            j = i\n",
    "            while j > 0:\n",
    "                print('comparing ' + str(lst[j]) + ' and ' + str(lst[j-1]))\n",
    "                if lst[j] < lst[j-1]:\n",
    "                    lst[j] , lst[j-1] = lst[j-1] , lst[j]\n",
    "                    j -= 1\n",
    "                else:\n",
    "                    break  \n",
    "    return lst\n",
    "\n",
    "print(insertion_sort([234,645,23,1,678]))\n",
    "\n",
    "'''\n",
    "OUTPUT:\n",
    "comparing 645 and 234\n",
    "comparing 23 and 645\n",
    "comparing 23 and 234\n",
    "comparing 1 and 645\n",
    "comparing 1 and 234\n",
    "comparing 1 and 23\n",
    "comparing 678 and 645\n",
    "[1, 23, 234, 645, 678]\n",
    "'''"
   ]
  },
  {
   "cell_type": "code",
   "execution_count": null,
   "metadata": {},
   "outputs": [],
   "source": [
    "def count_comparisons_insertion_sort(lst): #ascending order\n",
    "    comparisons = 0\n",
    "    for i in range(1, len(lst)):\n",
    "            j = i\n",
    "            while j > 0:\n",
    "                comparisons += 1\n",
    "                print('comparing ' + str(lst[j]) + ' and ' + str(lst[j-1]))\n",
    "                if lst[j] < lst[j-1]:\n",
    "                    lst[j] , lst[j-1] = lst[j-1] , lst[j]\n",
    "                    j -= 1\n",
    "                else:\n",
    "                    break\n",
    "                \n",
    "    return lst,comparisons  \n",
    "\n",
    "print(count_comparisons_insertion_sort([234,645,23,1,678]))\n",
    "\n",
    "#OUTPUT:\n",
    "'''comparing 645 and 234\n",
    "    comparing 23 and 645\n",
    "    comparing 23 and 234\n",
    "    comparing 1 and 645\n",
    "    comparing 1 and 234\n",
    "    comparing 1 and 23\n",
    "    comparing 678 and 645\n",
    "    ([1, 23, 234, 645, 678], 7)'''"
   ]
  },
  {
   "cell_type": "markdown",
   "metadata": {},
   "source": [
    "<h1>Merge Sort"
   ]
  },
  {
   "cell_type": "code",
   "execution_count": null,
   "metadata": {},
   "outputs": [],
   "source": []
  },
  {
   "cell_type": "markdown",
   "metadata": {},
   "source": [
    "<h1>Quick Sort"
   ]
  },
  {
   "cell_type": "code",
   "execution_count": null,
   "metadata": {},
   "outputs": [],
   "source": []
  }
 ],
 "metadata": {
  "kernelspec": {
   "display_name": "Python 3",
   "language": "python",
   "name": "python3"
  },
  "language_info": {
   "codemirror_mode": {
    "name": "ipython",
    "version": 3
   },
   "file_extension": ".py",
   "mimetype": "text/x-python",
   "name": "python",
   "nbconvert_exporter": "python",
   "pygments_lexer": "ipython3",
   "version": "3.11.2"
  },
  "orig_nbformat": 4
 },
 "nbformat": 4,
 "nbformat_minor": 2
}
