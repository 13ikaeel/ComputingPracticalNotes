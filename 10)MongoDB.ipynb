{
 "cells": [
  {
   "cell_type": "markdown",
   "metadata": {},
   "source": [
    "### Connecting to MongoDB"
   ]
  },
  {
   "cell_type": "code",
   "execution_count": null,
   "metadata": {},
   "outputs": [],
   "source": [
    "from pymongo import *\n",
    "\n",
    "#create a MongoDB instance called client\n",
    "client = MongoClient()\n",
    "# does the same thing as:\n",
    "client = MongoClient(\"127.0.0.1\", 27017)\n",
    "\n",
    "\n",
    "# Listing all the databases in the MongoDB server\n",
    "databases = client.list_database_names()\n",
    "print(\"The databases in the MongoDB server are:\", databases)\n",
    "\n",
    "\n",
    "# Create/access database\n",
    "db = client.get_database(\"Database_Name\")\n",
    "# Note that Collections and databases in MongoDB are created lazily;\n",
    "# The previous command have yet to actually perform any operations on the MongoDB server\n",
    "# The collections and databases will only be created when the first document is inserted\n",
    "# into them\n",
    "\n",
    "\n",
    "# Create/access collection \n",
    "col = db.get_collection(\"Collection_Name\")\n",
    "\n",
    "\n",
    "# Listing all the collections in the database\n",
    "collections = db.list_collection_names()\n",
    "print(\"The collections in the database are:\", col)\n",
    "\n",
    "\n",
    "\n",
    "\n",
    "\n",
    "client.close() #close and disconnect from MongoDB database"
   ]
  },
  {
   "cell_type": "markdown",
   "metadata": {},
   "source": [
    "### Listing database names"
   ]
  },
  {
   "cell_type": "code",
   "execution_count": null,
   "metadata": {},
   "outputs": [],
   "source": [
    "databases = client.list_database_names()\n",
    "print(\"The databases in the MongoDB server are:\", databases)"
   ]
  },
  {
   "cell_type": "markdown",
   "metadata": {},
   "source": [
    "### Create/access database using pymongo"
   ]
  },
  {
   "cell_type": "code",
   "execution_count": null,
   "metadata": {},
   "outputs": [],
   "source": [
    "db = client.get_database(\"DATABASE_NAME\")\n",
    "\n",
    "#e.g\n",
    "db = client.get_database(\"class_info\")"
   ]
  }
 ],
 "metadata": {
  "language_info": {
   "name": "python"
  }
 },
 "nbformat": 4,
 "nbformat_minor": 2
}
