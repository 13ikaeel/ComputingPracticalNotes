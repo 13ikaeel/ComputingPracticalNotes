{
 "cells": [
  {
   "cell_type": "markdown",
   "metadata": {},
   "source": [
    "# Connecting to MongoDB / Closing MongoDB"
   ]
  },
  {
   "cell_type": "code",
   "execution_count": null,
   "metadata": {},
   "outputs": [],
   "source": [
    "from pymongo import *\n",
    "\n",
    "#create a MongoDB instance called client\n",
    "client = MongoClient()\n",
    "# does the same thing as:\n",
    "client = MongoClient(\"127.0.0.1\", 27017)\n",
    "\n",
    "\n",
    "\n",
    "client.close() #close and disconnect from MongoDB database"
   ]
  },
  {
   "cell_type": "markdown",
   "metadata": {},
   "source": [
    "# Listing databases in server/client"
   ]
  },
  {
   "cell_type": "code",
   "execution_count": null,
   "metadata": {},
   "outputs": [],
   "source": [
    "databases = client.list_database_names()\n",
    "print(\"The databases in the MongoDB server are:\", databases)"
   ]
  },
  {
   "cell_type": "markdown",
   "metadata": {},
   "source": [
    "# Create/access database\n",
    "##### Note that Collections and Databases in MongoDB are created lazily; The previous command have yet to actually perform any operations on the MongoDB server. The collections and databases will only be created when the first document is inserted into them"
   ]
  },
  {
   "cell_type": "code",
   "execution_count": null,
   "metadata": {},
   "outputs": [],
   "source": [
    "db = client.get_database(\"DATABASE_NAME\")\n",
    "#e.g\n",
    "db = client.get_database(\"class_info\")"
   ]
  },
  {
   "cell_type": "markdown",
   "metadata": {},
   "source": [
    "# Listing collections in database"
   ]
  },
  {
   "cell_type": "code",
   "execution_count": null,
   "metadata": {},
   "outputs": [],
   "source": [
    "collections = db.list_collection_names()\n",
    "print(\"The collections in the database are:\", collections)"
   ]
  },
  {
   "cell_type": "markdown",
   "metadata": {},
   "source": [
    "# Create/access a collection in database"
   ]
  },
  {
   "cell_type": "code",
   "execution_count": null,
   "metadata": {},
   "outputs": [],
   "source": [
    "col = db.get_collection(\"Collection_Name\")\n",
    "#e.g\n",
    "col = db.get_collection(\"teachers\")"
   ]
  },
  {
   "cell_type": "markdown",
   "metadata": {},
   "source": [
    "# Document\n",
    "\n",
    "<h10>\n",
    "- Documents are Json objects that live inside a collection <br>\n",
    "- Each document contains key-value pairs (like python dictionary) where keys are fields and values are data associated with the fields <br>\n",
    "- Each document is identified using a unique key <br>\n",
    "- The _id field is automatically indexed when document is inserted into the database <br>\n",
    "- IDs are are 12 byte BSON objects, NOT strings which is why we need the ObjectID function\n",
    "<br>\n",
    "<br>\n",
    "{<br>\n",
    "\t“_id”: ObjectID(“5e9a568b12de6ebf44ce8ffe”), <br>\n",
    "\t“ID”: 1, <br>\n",
    "\t“Name”: “John”, <br>\n",
    "\t“Age”: 25 <br>\n",
    "}\n",
    "</h10>"
   ]
  },
  {
   "cell_type": "markdown",
   "metadata": {},
   "source": [
    "# Listing Document(s) in Collection"
   ]
  },
  {
   "cell_type": "code",
   "execution_count": null,
   "metadata": {},
   "outputs": [],
   "source": [
    "cursor = col.find_one() \n",
    "'''\n",
    "find_one() creates a cursor object from the query\n",
    "and will only find the first document in the collection, col\n",
    "\n",
    "when we output cursor, we will get a dictionary containing all the\n",
    "fields and their corresponding data\n",
    "{'_id': ObjectID('its id'), 'field1':'data1', 'field2': 'data2'}\n",
    "'''\n",
    "\n",
    "cursor = col.find()\n",
    "'''\n",
    "find() creates a cursor object from the query and will find \n",
    "all the documents in the collection, col\n",
    "'''"
   ]
  },
  {
   "cell_type": "markdown",
   "metadata": {},
   "source": [
    "# Insert document(s) in Collection"
   ]
  },
  {
   "cell_type": "code",
   "execution_count": null,
   "metadata": {},
   "outputs": [],
   "source": [
    "document = 'a document'\n",
    "documents = 'multiple documents'\n",
    "col.insert_one(document)\n",
    "col.insert_many(documents)\n",
    "\n",
    "#e.g.\n",
    "\n",
    "col.insert_one({\"data1\":\"value1\", \"data2\":\"value2\"})\n",
    "#############################################################################\n",
    "lst = [] #list of dictionary\n",
    "lst.append({\"name\":\"Mr Lim\",\"subject\":\"Phy\"})\n",
    "lst.append({\"name\":\"Mr Lee\",\"subject\":\"Chem\"})\n",
    "lst.append({\"name\":\"Mr Ong\",\"subject\":\"Econs\"})\n",
    "\n",
    "col.insert_many(lst)"
   ]
  },
  {
   "cell_type": "code",
   "execution_count": null,
   "metadata": {},
   "outputs": [],
   "source": []
  }
 ],
 "metadata": {
  "language_info": {
   "name": "python"
  }
 },
 "nbformat": 4,
 "nbformat_minor": 2
}
